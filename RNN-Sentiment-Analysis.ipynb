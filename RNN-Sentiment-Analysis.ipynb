{
 "cells": [
  {
   "cell_type": "code",
   "execution_count": 1,
   "metadata": {},
   "outputs": [],
   "source": [
    "import os\n",
    "import tensorflow as tf\n",
    "import numpy as np\n",
    "from tensorflow import keras"
   ]
  },
  {
   "cell_type": "code",
   "execution_count": 2,
   "metadata": {},
   "outputs": [],
   "source": [
    "tf.random.set_seed(22)\n",
    "np.random.seed(22)\n",
    "os.environ['TF_CPP_MIN_LOG_LEVEL'] = '2'\n",
    "assert tf.__version__.startswith('2.')"
   ]
  },
  {
   "cell_type": "markdown",
   "metadata": {},
   "source": [
    "Fix random seed and reproducibility"
   ]
  },
  {
   "cell_type": "code",
   "execution_count": 3,
   "metadata": {},
   "outputs": [],
   "source": [
    "np.random.seed(7)"
   ]
  },
  {
   "cell_type": "markdown",
   "metadata": {},
   "source": [
    "Load dataset but only keep the top n words, zero the rest"
   ]
  },
  {
   "cell_type": "code",
   "execution_count": 4,
   "metadata": {},
   "outputs": [],
   "source": [
    "top_words = 10000"
   ]
  },
  {
   "cell_type": "markdown",
   "metadata": {},
   "source": [
    "Truncate and pad input sequences"
   ]
  },
  {
   "cell_type": "code",
   "execution_count": 5,
   "metadata": {},
   "outputs": [],
   "source": [
    "max_review_length = 80\n",
    "(X_train, y_train), (X_test, y_test) = keras.datasets.imdb.load_data(num_words = top_words)\n",
    "\n",
    "# X_train = tf.convert_to_tensor(X_train)\n",
    "# y_train = tf.one_hoy(y_train, depth = 2)"
   ]
  },
  {
   "cell_type": "code",
   "execution_count": 6,
   "metadata": {},
   "outputs": [
    {
     "name": "stdout",
     "output_type": "stream",
     "text": [
      "x_train shape: (25000, 80)\n",
      "x_test shape: (25000, 80)\n"
     ]
    }
   ],
   "source": [
    "x_train = keras.preprocessing.sequence.pad_sequences(X_train, maxlen = max_review_length)\n",
    "x_test = keras.preprocessing.sequence.pad_sequences(X_test, maxlen = max_review_length)\n",
    "print('x_train shape:', x_train.shape)\n",
    "print('x_test shape:', x_test.shape)"
   ]
  },
  {
   "cell_type": "code",
   "execution_count": 7,
   "metadata": {},
   "outputs": [],
   "source": [
    "class RNN(keras.Model):\n",
    "    def __init__(self, units, num_classes, num_layers):\n",
    "        super(RNN, self).__init__()\n",
    "        \n",
    "        # self.ceels = [keras.layers.LSTMCell(units) for _ in range(num_layers)]\n",
    "        \n",
    "        # self.rnn = keras.layers.RNN(self.cells, unroll = True)\n",
    "        \n",
    "        self.rnn = keras.layers.LSTM(units,return_sequences = True)\n",
    "        self.rnn2 = keras.layers.LSTM(units)\n",
    "        \n",
    "        # self.cells = (keras.layers.LSTMCell(units) for _ in range(num_layers))\n",
    "\n",
    "        # self.rnn = keras.layers.RNN(self.cells, return_sequences=True, return_state=True)\n",
    "        # self.rnn = keras.layers.LSTM(units, unroll=True)\n",
    "        # self.rnn = keras.layers.StackedRNNCells(self.cells)\n",
    "\n",
    "        # have 1000 words totally, every word will be embedding into 100 length vector\n",
    "        # the max sentence lenght is 80 words\n",
    "        \n",
    "        self.embedding = keras.layers.Embedding(top_words, 100, input_length=max_review_length)\n",
    "        self.fc = keras.layers.Dense(1)\n",
    "\n",
    "    def call(self, inputs, training=None, mask=None):\n",
    "\n",
    "        # print('x', inputs.shape)\n",
    "        # [b, sentence len] => [b, sentence len, word embedding]\n",
    "        \n",
    "        x = self.embedding(inputs)\n",
    "        # print('embedding', x.shape)\n",
    "        \n",
    "        x = self.rnn(x) \n",
    "        x = self.rnn2(x) \n",
    "        # print('rnn', x.shape)\n",
    "\n",
    "        x = self.fc(x)\n",
    "        print(x.shape)\n",
    "\n",
    "        return x"
   ]
  },
  {
   "cell_type": "code",
   "execution_count": 8,
   "metadata": {},
   "outputs": [],
   "source": [
    "def main():\n",
    "\n",
    "    units = 64\n",
    "    num_classes = 2\n",
    "    batch_size = 32\n",
    "    epochs = 20\n",
    "\n",
    "    model = RNN(units, num_classes, num_layers=2)\n",
    "\n",
    "\n",
    "    model.compile(optimizer=keras.optimizers.Adam(0.001),\n",
    "                  loss=keras.losses.BinaryCrossentropy(from_logits=True),\n",
    "                  metrics=['accuracy'])\n",
    "\n",
    "    # train\n",
    "    model.fit(x_train, y_train, batch_size=batch_size, epochs=epochs,\n",
    "              validation_data=(x_test, y_test), verbose=1)\n",
    "\n",
    "    # evaluate on test set\n",
    "    scores = model.evaluate(x_test, y_test, batch_size, verbose=1)\n",
    "    print(\"Final test loss and accuracy :\", scores)"
   ]
  },
  {
   "cell_type": "code",
   "execution_count": 9,
   "metadata": {},
   "outputs": [
    {
     "name": "stdout",
     "output_type": "stream",
     "text": [
      "Epoch 1/20\n",
      "(None, 1)\n",
      "(None, 1)\n",
      "782/782 [==============================] - ETA: 0s - loss: 0.4217 - accuracy: 0.7921(None, 1)\n",
      "782/782 [==============================] - 52s 67ms/step - loss: 0.4217 - accuracy: 0.7921 - val_loss: 0.3665 - val_accuracy: 0.8286\n",
      "Epoch 2/20\n",
      "782/782 [==============================] - 64s 81ms/step - loss: 0.2673 - accuracy: 0.8857 - val_loss: 0.3763 - val_accuracy: 0.8424\n",
      "Epoch 3/20\n",
      "782/782 [==============================] - 54s 69ms/step - loss: 0.1887 - accuracy: 0.9235 - val_loss: 0.4449 - val_accuracy: 0.8334\n",
      "Epoch 4/20\n",
      "782/782 [==============================] - 54s 69ms/step - loss: 0.1296 - accuracy: 0.9508 - val_loss: 0.4835 - val_accuracy: 0.8280\n",
      "Epoch 5/20\n",
      "782/782 [==============================] - 53s 67ms/step - loss: 0.0859 - accuracy: 0.9678 - val_loss: 0.5468 - val_accuracy: 0.8268\n",
      "Epoch 6/20\n",
      "782/782 [==============================] - 52s 67ms/step - loss: 0.0551 - accuracy: 0.9810 - val_loss: 0.7304 - val_accuracy: 0.8168\n",
      "Epoch 7/20\n",
      "782/782 [==============================] - 52s 66ms/step - loss: 0.0515 - accuracy: 0.9820 - val_loss: 0.7853 - val_accuracy: 0.8173\n",
      "Epoch 8/20\n",
      "782/782 [==============================] - 52s 67ms/step - loss: 0.0310 - accuracy: 0.9895 - val_loss: 0.8115 - val_accuracy: 0.8206\n",
      "Epoch 9/20\n",
      "782/782 [==============================] - 56s 71ms/step - loss: 0.0256 - accuracy: 0.9914 - val_loss: 0.8566 - val_accuracy: 0.8260\n",
      "Epoch 10/20\n",
      "782/782 [==============================] - 52s 66ms/step - loss: 0.0263 - accuracy: 0.9921 - val_loss: 0.8208 - val_accuracy: 0.8172\n",
      "Epoch 11/20\n",
      "782/782 [==============================] - 52s 67ms/step - loss: 0.0184 - accuracy: 0.9941 - val_loss: 1.0357 - val_accuracy: 0.8124\n",
      "Epoch 12/20\n",
      "782/782 [==============================] - 53s 67ms/step - loss: 0.0209 - accuracy: 0.9934 - val_loss: 0.8785 - val_accuracy: 0.8042\n",
      "Epoch 13/20\n",
      "782/782 [==============================] - 55s 70ms/step - loss: 0.0144 - accuracy: 0.9953 - val_loss: 1.0250 - val_accuracy: 0.8152\n",
      "Epoch 14/20\n",
      "782/782 [==============================] - 54s 69ms/step - loss: 0.0183 - accuracy: 0.9936 - val_loss: 0.8989 - val_accuracy: 0.8136\n",
      "Epoch 15/20\n",
      "782/782 [==============================] - 58s 74ms/step - loss: 0.0103 - accuracy: 0.9968 - val_loss: 1.0755 - val_accuracy: 0.8245\n",
      "Epoch 16/20\n",
      "782/782 [==============================] - 56s 72ms/step - loss: 0.0103 - accuracy: 0.9964 - val_loss: 1.0958 - val_accuracy: 0.8187\n",
      "Epoch 17/20\n",
      "782/782 [==============================] - 56s 71ms/step - loss: 0.0129 - accuracy: 0.9957 - val_loss: 1.0758 - val_accuracy: 0.8263\n",
      "Epoch 18/20\n",
      "782/782 [==============================] - 54s 70ms/step - loss: 0.0036 - accuracy: 0.9992 - val_loss: 1.1624 - val_accuracy: 0.8244\n",
      "Epoch 19/20\n",
      "782/782 [==============================] - 56s 71ms/step - loss: 0.0073 - accuracy: 0.9976 - val_loss: 1.0436 - val_accuracy: 0.8139\n",
      "Epoch 20/20\n",
      "782/782 [==============================] - 57s 73ms/step - loss: 0.0119 - accuracy: 0.9956 - val_loss: 1.1614 - val_accuracy: 0.8180\n",
      "782/782 [==============================] - 10s 13ms/step - loss: 1.1614 - accuracy: 0.8180\n",
      "Final test loss and accuracy : [1.1613751649856567, 0.8179600238800049]\n"
     ]
    }
   ],
   "source": [
    "if __name__ == '__main__':\n",
    "    main()"
   ]
  }
 ],
 "metadata": {
  "kernelspec": {
   "display_name": "Python 3",
   "language": "python",
   "name": "python3"
  },
  "language_info": {
   "codemirror_mode": {
    "name": "ipython",
    "version": 3
   },
   "file_extension": ".py",
   "mimetype": "text/x-python",
   "name": "python",
   "nbconvert_exporter": "python",
   "pygments_lexer": "ipython3",
   "version": "3.8.3"
  }
 },
 "nbformat": 4,
 "nbformat_minor": 4
}
